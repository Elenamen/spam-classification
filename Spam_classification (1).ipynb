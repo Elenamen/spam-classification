{
 "cells": [
  {
   "cell_type": "code",
   "execution_count": 80,
   "metadata": {},
   "outputs": [],
   "source": [
    "import numpy as np\n",
    "import pandas as pd\n",
    "import matplotlib.pyplot as plt\n",
    "from sklearn.model_selection import train_test_split"
   ]
  },
  {
   "cell_type": "code",
   "execution_count": 81,
   "metadata": {},
   "outputs": [],
   "source": [
    "# load the dataset and explore it\n",
    "df = pd.read_csv('C:/Users/Elena/Desktop/tutorials/NLP projs/spam_classification/spam.tsv',sep='\\t')\n",
    "stats = df.describe()\n",
    "rows = len(df)\n",
    "class_freq = df['label'].value_counts()/ rows\n",
    "\n",
    "# check for null values in the dataset\n",
    "nan_val = df.isnull().sum()"
   ]
  },
  {
   "cell_type": "code",
   "execution_count": 82,
   "metadata": {},
   "outputs": [
    {
     "data": {
      "text/plain": [
       "((747, 4), (747, 4))"
      ]
     },
     "execution_count": 82,
     "metadata": {},
     "output_type": "execute_result"
    }
   ],
   "source": [
    "# check the shape of data\n",
    "ham.shape, spam.shape"
   ]
  },
  {
   "cell_type": "code",
   "execution_count": 83,
   "metadata": {},
   "outputs": [],
   "source": [
    "# class definition\n",
    "ham = df[df['label'] == 'ham']\n",
    "spam = df[df['label'] == 'spam']\n",
    "\n",
    "# no of samples in spam data\n",
    "samples = spam.shape[0]\n",
    "\n",
    "# balance the classes\n",
    "ham = ham.sample(samples)\n",
    "\n",
    "# concatinate the data\n",
    "data = ham.append(spam)\n"
   ]
  },
  {
   "cell_type": "code",
   "execution_count": 102,
   "metadata": {},
   "outputs": [
    {
     "data": {
      "image/png": "[encoded data removed]",
      "text/plain": [
       "<Figure size 432x288 with 1 Axes>"
      ]
     },
     "metadata": {
      "needs_background": "light"
     },
     "output_type": "display_data"
    }
   ],
   "source": [
    "# Data visualization\n",
    "\n",
    "# plot histogram of messages' length\n",
    "plt.hist(data[data['label'] == 'ham']['length'],bins=50,alpha=0.7,label='non-spam')\n",
    "plt.hist(data[data['label'] == 'spam']['length'],bins=50,alpha=0.7,label='spam')\n",
    "plt.legend()\n",
    "\n",
    "plt.ylabel(\"num of chars\")\n",
    "plt.show()"
   ]
  },
  {
   "cell_type": "code",
   "execution_count": 85,
   "metadata": {},
   "outputs": [],
   "source": [
    "# train/test split\n",
    "X_train, X_test, y_train, y_test = train_test_split(data['message'],data['label'],test_size=0.3,\n",
    "                                                    random_state=0, shuffle=True)\n"
   ]
  },
  {
   "cell_type": "markdown",
   "metadata": {},
   "source": [
    "# Building the models\n"
   ]
  },
  {
   "cell_type": "code",
   "execution_count": 91,
   "metadata": {},
   "outputs": [
    {
     "data": {
      "text/plain": [
       "Pipeline(steps=[('tfidf', TfidfVectorizer()),\n",
       "                ('classifier', SVC(C=100, gamma='auto'))])"
      ]
     },
     "execution_count": 91,
     "metadata": {},
     "output_type": "execute_result"
    }
   ],
   "source": [
    "# Random forest\n",
    "\n",
    "from sklearn.pipeline import Pipeline\n",
    "# there will be lot of repeated processes for training and testing the dataset separately,\n",
    "# to avoid that we are using pipeline\n",
    "\n",
    "from sklearn.feature_extraction.text import TfidfVectorizer\n",
    "# we are importing TfidfVectorizer to utilize bag of words model in sklearn\n",
    "\n",
    "from sklearn.ensemble import RandomForestClassifier\n",
    "from sklearn.svm import SVC\n",
    "classifier_RF = Pipeline([('tfidf', TfidfVectorizer()), ('classifier',RandomForestClassifier(n_estimators=100))])\n",
    "classifier_RF.fit(X_train, y_train)\n",
    "\n",
    "# SVM \n",
    "classifier_SVM = Pipeline([('tfidf', TfidfVectorizer()), ('classifier',SVC(C=100,gamma='auto'))])\n",
    "classifier_SVM.fit(X_train, y_train)"
   ]
  },
  {
   "cell_type": "markdown",
   "metadata": {},
   "source": [
    "# Predict the resutls"
   ]
  },
  {
   "cell_type": "code",
   "execution_count": 92,
   "metadata": {},
   "outputs": [],
   "source": [
    "from sklearn.metrics import accuracy_score, classification_report, confusion_matrix"
   ]
  },
  {
   "cell_type": "code",
   "execution_count": 94,
   "metadata": {},
   "outputs": [],
   "source": [
    "y_pred_RF = classifier_RF.predict(X_test)\n",
    "y_pred_SVM = classifier_SVM.predict(X_test)"
   ]
  },
  {
   "cell_type": "code",
   "execution_count": null,
   "metadata": {},
   "outputs": [],
   "source": [
    "accuracy_RF = accuracy_score(y_test, y_pred_RF)\n",
    "accuracy_SVM = accuracy_score(y_test, y_pred_SVM)\n",
    "\n",
    "# confusiton matrix\n",
    "confusion_RF = confusion_matrix(y_test, y_pred_RF)\n",
    "confusion_SVM = confusion_matrix(y_test, y_pred_SVM)\n",
    "\n",
    "report_RF = classification_report(y_test, y_pred_RF)\n",
    "report_SVM = classification_report(y_test, y_pred_SVM)\n"
   ]
  },
  {
   "cell_type": "markdown",
   "metadata": {},
   "source": [
    "# Testing our own messages "
   ]
  },
  {
   "cell_type": "code",
   "execution_count": 118,
   "metadata": {},
   "outputs": [
    {
     "name": "stdout",
     "output_type": "stream",
     "text": [
      "['ham']\n",
      "test1\n",
      "['ham']\n",
      "['ham']\n",
      "test2\n",
      "['ham']\n",
      "['ham']\n",
      "test3\n",
      "['ham']\n"
     ]
    },
    {
     "data": {
      "text/plain": [
       "array(['spam'], dtype=object)"
      ]
     },
     "execution_count": 118,
     "metadata": {},
     "output_type": "execute_result"
    }
   ],
   "source": [
    "test1 = 'Hello, You are learning atural Language Processing'\n",
    "test2 = 'Hope you are doing good and learning new things !'\n",
    "test3 = 'Congratulations, You won a lottery ticket worth $1 Million ! To claim call on 446677'\n",
    "\n",
    "\n",
    "for i in range(1,4):\n",
    "    print(classifier_RF.predict([f\"test{i}\"]))\n",
    "    print(classifier_SVM.predict([f\"test{i}\"]))\n",
    "    \n",
    "classifier_SVM.predict(['Congratulations, You won a lottery ticket worth $1 Million ! To claim call on 446677'])"
   ]
  }
 ],
 "metadata": {
  "kernelspec": {
   "display_name": "Python 3",
   "language": "python",
   "name": "python3"
  },
  "language_info": {
   "codemirror_mode": {
    "name": "ipython",
    "version": 3
   },
   "file_extension": ".py",
   "mimetype": "text/x-python",
   "name": "python",
   "nbconvert_exporter": "python",
   "pygments_lexer": "ipython3",
   "version": "3.8.5"
  }
 },
 "nbformat": 4,
 "nbformat_minor": 4
}
